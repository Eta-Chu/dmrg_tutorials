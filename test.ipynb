{
 "cells": [
  {
   "cell_type": "code",
   "execution_count": 1,
   "metadata": {},
   "outputs": [],
   "source": [
    "import sys\n",
    "sys.path.append('/Users/eta/Desktop/code/Lib')\n",
    "\n",
    "from dmrg_tutorials import infiniteDMRG, SpinHalfXXZChain, finiteDMRG\n",
    "import numpy as np\n",
    "from scipy.sparse.linalg import eigsh"
   ]
  },
  {
   "cell_type": "code",
   "execution_count": 4,
   "metadata": {},
   "outputs": [],
   "source": [
    "B = SpinHalfXXZChain(delta=1, hz=0)\n",
    "dmrg = infiniteDMRG(B)\n",
    "dmrg.run(20, m=50)"
   ]
  },
  {
   "cell_type": "code",
   "execution_count": 4,
   "metadata": {},
   "outputs": [
    {
     "data": {
      "text/plain": [
       "[0.0,\n",
       " 0.0,\n",
       " 0.0,\n",
       " 0.0,\n",
       " 0.0,\n",
       " 0.0,\n",
       " 0.0,\n",
       " 0.0,\n",
       " 0.0,\n",
       " 0.0,\n",
       " 0.0,\n",
       " 0.0,\n",
       " 0.0,\n",
       " 0.0,\n",
       " 0.0,\n",
       " 0.0,\n",
       " 0.0,\n",
       " 0.0,\n",
       " 0.0,\n",
       " 0.0]"
      ]
     },
     "execution_count": 4,
     "metadata": {},
     "output_type": "execute_result"
    }
   ],
   "source": [
    "dmrg.log['error']"
   ]
  },
  {
   "cell_type": "code",
   "execution_count": 3,
   "metadata": {},
   "outputs": [
    {
     "data": {
      "text/plain": [
       "[-1.6160254037844393,\n",
       " -2.4935771338879267,\n",
       " -3.3749325986878884,\n",
       " -4.258035207282885,\n",
       " -5.142090632840529,\n",
       " -6.026724661862138,\n",
       " -6.911737145570747,\n",
       " -7.7970110684907095,\n",
       " -8.68247333412997,\n",
       " -9.568075875158321,\n",
       " -10.453785758567943,\n",
       " -11.339579649213736,\n",
       " -12.225440542408462,\n",
       " -13.111355748350876,\n",
       " -13.997315602093092,\n",
       " -14.883312610587518,\n",
       " -15.769340874066977,\n",
       " -16.655395682319533,\n",
       " -17.541473229543097,\n",
       " -18.427570405368183]"
      ]
     },
     "execution_count": 3,
     "metadata": {},
     "output_type": "execute_result"
    }
   ],
   "source": [
    "dmrg.log['energy']"
   ]
  },
  {
   "cell_type": "code",
   "execution_count": 4,
   "metadata": {},
   "outputs": [
    {
     "data": {
      "text/plain": [
       "21"
      ]
     },
     "execution_count": 4,
     "metadata": {},
     "output_type": "execute_result"
    }
   ],
   "source": [
    "B.length"
   ]
  },
  {
   "cell_type": "code",
   "execution_count": 5,
   "metadata": {},
   "outputs": [
    {
     "data": {
      "text/plain": [
       "-0.43875167631829004"
      ]
     },
     "execution_count": 5,
     "metadata": {},
     "output_type": "execute_result"
    }
   ],
   "source": [
    "-18.427570405368183 / 42"
   ]
  },
  {
   "cell_type": "code",
   "execution_count": 1,
   "metadata": {},
   "outputs": [],
   "source": [
    "import sys\n",
    "sys.path.append('/Users/eta/Desktop/code/Lib')\n",
    "\n",
    "from dmrg_tutorials import infiniteDMRG, SpinHalfXXZChain, finiteDMRG\n",
    "import numpy as np\n",
    "from scipy.sparse.linalg import eigsh"
   ]
  },
  {
   "cell_type": "code",
   "execution_count": 2,
   "metadata": {},
   "outputs": [
    {
     "name": "stdout",
     "output_type": "stream",
     "text": [
      "=**=\n",
      "energy: -1.6160254037844393 truncation error: 0.0\n",
      "==**==\n",
      "energy: -2.4935771338879267 truncation error: 0.0\n",
      "===**===\n",
      "energy: -3.3749325986878884 truncation error: 0.0\n",
      "====**====\n",
      "energy: -4.258035207282885 truncation error: 1.8109834486274745e-12\n",
      "=====**=====\n",
      "energy: -5.142090632757907 truncation error: 6.385509185570911e-13\n",
      "======**======\n",
      "energy: -6.026724661574175 truncation error: 1.1013965575364229e-10\n",
      "=======**=======\n",
      "energy: -6.911737136751622 truncation error: 2.0115167540493605e-11\n",
      "========**========\n",
      "energy: -7.797011041286634 truncation error: 9.320487125750266e-10\n",
      "=========**=========\n",
      "energy: -8.682473259327159 truncation error: 1.7694551253571436e-10\n"
     ]
    }
   ],
   "source": [
    "B = SpinHalfXXZChain(delta=1, hz=0)\n",
    "length = 20\n",
    "m = 30\n",
    "dmrg = finiteDMRG(B, length, m)\n",
    "# dmrg.run(20, m=50)"
   ]
  },
  {
   "cell_type": "code",
   "execution_count": 3,
   "metadata": {},
   "outputs": [
    {
     "name": "stdout",
     "output_type": "stream",
     "text": [
      "==========**========\n",
      "energy: -8.682473270186835 truncation error: 2.197379485360485e-08\n",
      "===========**=======\n",
      "energy: -8.682473202106403 truncation error: 1.5541538567129758e-08\n",
      "============**======\n",
      "energy: -8.682473173325933 truncation error: 9.584936633839713e-09\n",
      "=============**=====\n",
      "energy: -8.682473138707532 truncation error: 4.4689340319889866e-09\n",
      "==============**====\n",
      "energy: -8.682473123408773 truncation error: 1.5926549024983675e-09\n",
      "===============**===\n",
      "energy: -8.68247311625333 truncation error: -1.6208731914114943e-17\n",
      "================**==\n",
      "energy: -8.682473116253325 truncation error: -8.843491523648955e-17\n",
      "=================**=\n",
      "energy: -8.682473116253329 truncation error: -1.0575227491847603e-17\n",
      "=================**=\n",
      "energy: -8.682473116253348 truncation error: 0.0\n",
      "================**==\n",
      "energy: -8.68247311625333 truncation error: 0.0\n",
      "===============**===\n",
      "energy: -8.682473116253336 truncation error: 0.0\n",
      "==============**====\n",
      "energy: -8.682473123408762 truncation error: 1.5926549339476588e-09\n",
      "=============**=====\n",
      "energy: -8.682473131447182 truncation error: 4.337999287755796e-09\n",
      "============**======\n",
      "energy: -8.682473150331203 truncation error: 9.266878884927521e-09\n",
      "===========**=======\n",
      "energy: -8.682473164890164 truncation error: 1.4794730096719821e-08\n",
      "==========**========\n",
      "energy: -8.682473183241067 truncation error: 2.0350450525165458e-08\n",
      "=========**=========\n",
      "energy: -8.682473116618624 truncation error: 2.108329227504801e-08\n",
      "========**==========\n",
      "energy: -8.682473059603847 truncation error: 1.969173632845243e-08\n",
      "=======**===========\n",
      "energy: -8.682472996473614 truncation error: 1.4763618963469668e-08\n",
      "======**============\n",
      "energy: -8.682472969472274 truncation error: 9.520944591019201e-09\n",
      "=====**=============\n",
      "energy: -8.682472935027466 truncation error: 4.448772119755357e-09\n",
      "====**==============\n",
      "energy: -8.682472919788466 truncation error: 1.5915184066570286e-09\n",
      "===**===============\n",
      "energy: -8.682472912637582 truncation error: -1.7719931814393594e-16\n",
      "==**================\n",
      "energy: -8.682472912637582 truncation error: -6.83740526365964e-18\n",
      "=**=================\n",
      "energy: -8.682472912637582 truncation error: -1.1440119894587775e-17\n",
      "=**=================\n",
      "energy: -8.682472912637575 truncation error: 0.0\n",
      "==**================\n",
      "energy: -8.682472912637579 truncation error: 0.0\n",
      "===**===============\n",
      "energy: -8.682472912637575 truncation error: 0.0\n",
      "====**==============\n",
      "energy: -8.682472919788461 truncation error: 1.591518283188477e-09\n",
      "=====**=============\n",
      "energy: -8.682472927772874 truncation error: 4.3185508199315285e-09\n",
      "======**============\n",
      "energy: -8.682472946550725 truncation error: 9.20686759038887e-09\n",
      "=======**===========\n",
      "energy: -8.682472959474953 truncation error: 1.4070397378187216e-08\n",
      "========**==========\n",
      "energy: -8.682472975354571 truncation error: 1.8483281675515427e-08\n",
      "=========**=========\n",
      "energy: -8.682472976164783 truncation error: 1.9242584536409877e-08\n"
     ]
    }
   ],
   "source": [
    "dmrg.sweep(20)"
   ]
  },
  {
   "cell_type": "code",
   "execution_count": 4,
   "metadata": {},
   "outputs": [],
   "source": [
    "import matplotlib.pyplot as plt"
   ]
  },
  {
   "cell_type": "code",
   "execution_count": 5,
   "metadata": {},
   "outputs": [
    {
     "data": {
      "text/plain": [
       "[<matplotlib.lines.Line2D at 0x11f2270d0>]"
      ]
     },
     "execution_count": 5,
     "metadata": {},
     "output_type": "execute_result"
    },
    {
     "data": {
      "image/png": "[encoded data removed]",
      "text/plain": [
       "<Figure size 640x480 with 1 Axes>"
      ]
     },
     "metadata": {},
     "output_type": "display_data"
    }
   ],
   "source": [
    "plt.plot(dmrg.log['energy'])"
   ]
  },
  {
   "cell_type": "code",
   "execution_count": 6,
   "metadata": {},
   "outputs": [
    {
     "data": {
      "text/plain": [
       "-8.682472976164783"
      ]
     },
     "execution_count": 6,
     "metadata": {},
     "output_type": "execute_result"
    }
   ],
   "source": [
    "dmrg.log['energy'][-1]"
   ]
  },
  {
   "cell_type": "code",
   "execution_count": 7,
   "metadata": {},
   "outputs": [
    {
     "data": {
      "text/plain": [
       "43"
      ]
     },
     "execution_count": 7,
     "metadata": {},
     "output_type": "execute_result"
    }
   ],
   "source": [
    "len(dmrg.log['spectrum'])"
   ]
  },
  {
   "cell_type": "code",
   "execution_count": 8,
   "metadata": {},
   "outputs": [
    {
     "data": {
      "text/plain": [
       "(20,)"
      ]
     },
     "execution_count": 8,
     "metadata": {},
     "output_type": "execute_result"
    }
   ],
   "source": [
    "dmrg.log['spectrum'][-1].shape"
   ]
  },
  {
   "cell_type": "code",
   "execution_count": 9,
   "metadata": {},
   "outputs": [
    {
     "data": {
      "text/plain": [
       "array([8.35408353e-01, 5.45267580e-02, 5.45267579e-02, 5.45267577e-02,\n",
       "       2.91340085e-04, 2.91340056e-04, 2.91339830e-04, 1.08616658e-04,\n",
       "       7.22757852e-06, 7.22757048e-06, 7.22756221e-06, 1.26490542e-06,\n",
       "       1.26490541e-06, 1.26490286e-06, 1.26490257e-06, 1.26490179e-06,\n",
       "       2.11298319e-07, 2.11297421e-07, 2.11288274e-07, 7.67384001e-08])"
      ]
     },
     "execution_count": 9,
     "metadata": {},
     "output_type": "execute_result"
    }
   ],
   "source": [
    "dmrg.log['spectrum'][-1]"
   ]
  },
  {
   "cell_type": "code",
   "execution_count": null,
   "metadata": {},
   "outputs": [],
   "source": []
  }
 ],
 "metadata": {
  "kernelspec": {
   "display_name": "pytoch",
   "language": "python",
   "name": "pytoch"
  },
  "language_info": {
   "codemirror_mode": {
    "name": "ipython",
    "version": 3
   },
   "file_extension": ".py",
   "mimetype": "text/x-python",
   "name": "python",
   "nbconvert_exporter": "python",
   "pygments_lexer": "ipython3",
   "version": "3.8.16"
  }
 },
 "nbformat": 4,
 "nbformat_minor": 2
}
